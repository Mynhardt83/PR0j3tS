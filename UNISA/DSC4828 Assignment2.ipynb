{
 "cells": [
  {
   "cell_type": "markdown",
   "id": "e93ece6d",
   "metadata": {},
   "source": [
    "# DSC4828 Assignment 2\n",
    "\n",
    "**Due date: Monday 17/05/2024 21h00** <br>\n",
    "**Total marks: 60** <br> \n",
    "\n",
    "**Your name:** Mynhardt L. Traut     <br>\n",
    "**Your student number:** 54763088        <br>\n",
    "**Your email address:** mynhardt.traut@gmail.com         <br>\n",
    "\n",
    "**Instructions:** \n",
    "1. Complete the tasks below by editing/adding the code in the code cells directly below each question. \n",
    "2. Submit your completed .ipynb file on the module website under the appropriate link.\n",
    "\n",
    "For any queries about this assignment, email Katherine Malan at malankm@unisa.ac.za"
   ]
  },
  {
   "cell_type": "markdown",
   "id": "a90e88af",
   "metadata": {},
   "source": [
    "## Question 1: debugging  (9 marks)\n",
    "The following code is supposed to print out the Fibonacci sequence up to the number of terms specified by the user.\n",
    "For example, if the user enters 10, the output should be:\n",
    "\n",
    "Fibonacci sequence of 10  terms:<br>\n",
    "0, 1, 1, 2, 3, 5, 8, 13, 21, 34\n",
    "\n",
    "However, the program contains a number of errors. Your task is to fix the code until it works correctly.<br>\n",
    "For each error that you find in the program, add a comment to explain the error."
   ]
  },
  {
   "cell_type": "code",
   "execution_count": 1,
   "id": "e9a221c9",
   "metadata": {},
   "outputs": [
    {
     "name": "stdout",
     "output_type": "stream",
     "text": [
      "Enter the number of terms: 20\n",
      "Fibonacci sequence of 20 terms:\n",
      "0, 1, 1, 2, 3, 5, 8, 13, 21, 34, 55, 89, 144, 233, 377, 610, 987, 1597, 2584, 4181\n"
     ]
    }
   ],
   "source": [
    "num_terms = int(input(\"Enter the number of terms: \"))  # Convert input to integer\n",
    "t1 = 0\n",
    "t2 = 1\n",
    "counter = 0  # Initialize counter for checking when to stop\n",
    "\n",
    "if num_terms <= 0:\n",
    "    print(\"No terms - number is not positive\")\n",
    "else:\n",
    "    print(\"Fibonacci sequence of\", num_terms, \"terms:\")\n",
    "    while counter < num_terms:\n",
    "        if counter == num_terms - 1:  # Check for last term\n",
    "            print(t1)  # Print the last term without a comma\n",
    "        else:\n",
    "            print(t1, end=\", \")\n",
    "        \n",
    "        # Compute the next term\n",
    "        next_term = t1 + t2\n",
    "        t1 = t2\n",
    "        t2 = next_term\n",
    "        counter += 1  # Increment the counter"
   ]
  },
  {
   "cell_type": "markdown",
   "id": "48b09078",
   "metadata": {},
   "source": [
    "## Question 2: number of characters and words (5 marks)\n",
    "Write code to input a sentence from the user and output the number of characters in the sentence as well as the estimated number of words in the sentence (excluding leading or trailing spaces). **Hint**: You can estimate the number of words by counting the number of spaces in the sentence. \n"
   ]
  },
  {
   "cell_type": "code",
   "execution_count": 47,
   "id": "f3076120",
   "metadata": {},
   "outputs": [
    {
     "name": "stdout",
     "output_type": "stream",
     "text": [
      "Please enter a sentence:         this is my sentence       \n",
      "Number of characters: 19\n",
      "Estimated number of words: 4\n"
     ]
    }
   ],
   "source": [
    "# Input the sentence from the user\n",
    "sentence = input(\"Please enter a sentence: \")\n",
    "\n",
    "# Strip leading and trailing spaces to clean up the input\n",
    "trim_sentence = sentence.strip()\n",
    "\n",
    "# Count the characters in the cleaned-up sentence\n",
    "num_chars = len(trim_sentence)\n",
    "\n",
    "# Estimate the number of words. Check if the sentence is not empty to avoid incorrect counts\n",
    "if trim_sentence:\n",
    "    num_words = trim_sentence.count(\" \") + 1  # Add one because words are one more than spaces\n",
    "else:\n",
    "    num_words = 0  # If the sentence is empty after stripping, set word count to zero\n",
    "\n",
    "# Output the results\n",
    "print(\"Number of characters:\", num_chars)\n",
    "print(\"Estimated number of words:\", num_words)"
   ]
  },
  {
   "cell_type": "markdown",
   "id": "00a5627a",
   "metadata": {},
   "source": [
    "## Question 3: Ackley's function (8 marks)\n",
    "Write code to input two numbers from the user (x1 and x2) and then print out the result of the following fuction (known as Ackley's function). You can test your code using the following test cases: f(0,0) $\\approx$ 0, and f(31.5, 31.5) $\\approx$ 22.314. **Hint**: In Python, trigonometric functions (such as cos and sin) are defined in the math package. \n",
    "\n",
    "   $f(x_1,x_2) =   -20\\,\\textrm{exp}\\big(-0.2\\sqrt{0.5(x_1^2 + x_2^2)}\\big)-\\textrm{exp}(0.5(\\cos2\\pi x_1 + \\cos2\\pi x_2)) + 20 + \\textrm{exp}(1)$"
   ]
  },
  {
   "cell_type": "code",
   "execution_count": 3,
   "id": "edc5c278",
   "metadata": {},
   "outputs": [
    {
     "name": "stdout",
     "output_type": "stream",
     "text": [
      "Enter x1: 31.5\n",
      "Enter x2: 31.5\n",
      "Ackley's function value for (x1, x2) is: 22.313676291747026\n"
     ]
    }
   ],
   "source": [
    "import math\n",
    "\n",
    "# Ackley's function definition\n",
    "def ackley(x1, x2):\n",
    "    part1 = math.exp(-0.2 * math.sqrt(0.5 * (x1**2 + x2**2)))\n",
    "    part2 = math.exp(0.5 * (math.cos(2 * math.pi * x1) + math.cos(2 * math.pi * x2)))\n",
    "    return -20 * part1 - part2 + 20 + math.exp(1)\n",
    "\n",
    "# Input from user\n",
    "x1 = float(input(\"Enter x1: \"))\n",
    "x2 = float(input(\"Enter x2: \"))\n",
    "\n",
    "# Calculate and print the result\n",
    "result = ackley(x1, x2)\n",
    "print(\"Ackley's function value for (x1, x2) is:\", result)"
   ]
  },
  {
   "cell_type": "markdown",
   "id": "009a4bcc",
   "metadata": {},
   "source": [
    "## Question 4: prime number (8 marks)\n",
    "Write code to ask the user to enter an integer. Print a statement indicating whether the integer is a prime number or not."
   ]
  },
  {
   "cell_type": "code",
   "execution_count": 49,
   "id": "42472e25",
   "metadata": {},
   "outputs": [
    {
     "name": "stdout",
     "output_type": "stream",
     "text": [
      "Enter an integer (or press enter to exit): 1.5\n",
      "You did not enter an integer. Please try again.\n",
      "Enter an integer (or press enter to exit): 23\n",
      "The integer 23 is a prime number.\n"
     ]
    }
   ],
   "source": [
    "# Function to check if input is prime\n",
    "def is_prime(num):\n",
    "    if num <= 1:\n",
    "        return False\n",
    "    if num == 2:\n",
    "        return True  # 2 is a prime number\n",
    "    for i in range(2, int(num**0.5) + 1):\n",
    "        if num % i == 0:\n",
    "            return False\n",
    "    return True\n",
    "\n",
    "# Validate input from user to check if integer\n",
    "while True:\n",
    "    user_input = input(\"Enter an integer (or press enter to exit): \")\n",
    "    if user_input.strip() == \"\":\n",
    "        print(\"No input provided. Exiting.\")\n",
    "        break\n",
    "    try:\n",
    "        n = float(user_input)\n",
    "        if n.is_integer():\n",
    "            n = int(n)\n",
    "            break\n",
    "        else:\n",
    "            print(\"You did not enter an integer. Please try again.\")\n",
    "    except ValueError:\n",
    "        print(\"Invalid input. Please enter a valid integer.\")\n",
    "\n",
    "# Check if the number is prime and print the result\n",
    "if user_input.strip() != \"\":\n",
    "    if is_prime(n):\n",
    "        print(f\"The integer {n} is a prime number.\")\n",
    "    else:\n",
    "        print(f\"The integer {n} is not a prime number.\")"
   ]
  },
  {
   "cell_type": "markdown",
   "id": "6e6893ca",
   "metadata": {},
   "source": [
    "## Question 5: round_list function (8 marks)\n",
    "Write a function called round_list that takes two arguments: a list of real numbers and an integer. The function should create a new list containing the same number of real numbers as the original list, but rounded off to the number of decimals indicated by the second argument. For example, round_list( [12.34529, 10.6758, 11.6111, 56.89], 2) should return the list [12.35, 10.68, 11.61, 56.89]. <br>\n",
    "Add code to test your function."
   ]
  },
  {
   "cell_type": "code",
   "execution_count": 21,
   "id": "3093ed0b",
   "metadata": {},
   "outputs": [
    {
     "name": "stdout",
     "output_type": "stream",
     "text": [
      "Enter numbers one at a time. Press enter without typing a number to finish.\n",
      "Enter a number: 0.9\n",
      "Enter a number: 0.98\n",
      "Enter a number: 0.987\n",
      "Enter a number: 0.9876\n",
      "Enter a number: 0.98765\n",
      "Enter a number: 0.5\n",
      "Enter a number: 0.54\n",
      "Enter a number: 0.543\n",
      "Enter a number: 0.5432\n",
      "Enter a number: 0.54321\n",
      "Enter a number: 0.55555\n",
      "Enter a number: 0.56\n",
      "Enter a number: 0.567\n",
      "Enter a number: 0.5678\n",
      "Enter a number: 0.56789\n",
      "Enter a number: \n",
      "Enter the number of decimal places to round to: 3\n",
      "Rounded numbers: [0.9, 0.98, 0.987, 0.988, 0.988, 0.5, 0.54, 0.543, 0.543, 0.543, 0.556, 0.56, 0.567, 0.568, 0.568]\n"
     ]
    }
   ],
   "source": [
    "# Function to round the input numbers to specified decimals\n",
    "def round_list(numbers, decimals):\n",
    "    rounded_list = [round(float(num), decimals) for num in numbers]\n",
    "    return rounded_list\n",
    "\n",
    "# Function to prompt user to enter a list of numbers, exit upon empty input\n",
    "def get_user_input():\n",
    "    numbers = []\n",
    "    print(\"Enter numbers one at a time. Press enter without typing a number to finish.\")\n",
    "    while True:\n",
    "        user_input = input(\"Enter a number: \")\n",
    "        if user_input.strip() == \"\":\n",
    "            break\n",
    "        try:\n",
    "            # Convert to float to ensure the input can be rounded later\n",
    "            num = float(user_input)\n",
    "            numbers.append(num)\n",
    "        except ValueError:\n",
    "            print(\"Invalid input, please enter a valid number.\")\n",
    "    return numbers\n",
    "\n",
    "# Get user inputs\n",
    "user_numbers = get_user_input()\n",
    "if user_numbers:\n",
    "    while True:\n",
    "        try:\n",
    "            decimals = int(input(\"Enter the number of decimal places to round to: \"))\n",
    "            if decimals < 0:\n",
    "                print(\"Please enter a non-negative integer for decimal places.\")\n",
    "            else:\n",
    "                break\n",
    "        except ValueError:\n",
    "            print(\"Please enter an integer.\")\n",
    "    # Round the list and print the result\n",
    "    result = round_list(user_numbers, decimals)\n",
    "    print(\"Rounded numbers:\", result)\n",
    "else:\n",
    "    print(\"No numbers were entered.\")"
   ]
  },
  {
   "cell_type": "markdown",
   "id": "1251c6ac",
   "metadata": {},
   "source": [
    "## Question 6: first_duplicate function (8 marks)\n",
    "Write a function called first_duplicate that takes a list as an argument and returns the first element that is duplicated in the list. If no duplicates are found, the function should return None. Hint: One way of doing this is to use the count method to see how many instances of each element there are. If there is more than 1, it means that that element is duplicated.\n",
    "\n",
    "Write code to test the function first_duplicate with a list of numbers and a list of tuples. If your function does not work with both types, then change it until it does work with these two types."
   ]
  },
  {
   "cell_type": "code",
   "execution_count": 29,
   "id": "0ef46389",
   "metadata": {},
   "outputs": [
    {
     "name": "stdout",
     "output_type": "stream",
     "text": [
      "Enter elements one by one (press Enter with no input to finish):\n",
      "(1,2,3)\n",
      "(2,3,4)\n",
      "1\n",
      "2\n",
      "hello\n",
      "bird\n",
      "3\n",
      "4\n",
      "shut the door\n",
      "5\n",
      "6\n",
      "pick up sticks\n",
      "7\n",
      "8\n",
      "lay them straight\n",
      "(2,3,4)\n",
      "1\n",
      "2\n",
      "hello\n",
      "hello\n",
      "hello\n",
      "\n",
      "First duplicate: (2, 3, 4)\n"
     ]
    }
   ],
   "source": [
    "def first_duplicate(lst):\n",
    "    seen = set()\n",
    "    for item in lst:\n",
    "        if item in seen:\n",
    "            return item\n",
    "        seen.add(item)\n",
    "    return None\n",
    "\n",
    "def input_elements():\n",
    "    elements = []\n",
    "    print(\"Enter elements one by one (press Enter with no input to finish):\")\n",
    "    \n",
    "    while True:\n",
    "        user_input = input()\n",
    "        if user_input == \"\":\n",
    "            break\n",
    "        try:\n",
    "            # Attempt to evaluate the input (for numbers, tuples)\n",
    "            element = eval(user_input)\n",
    "            elements.append(element)\n",
    "        except:\n",
    "            # If eval fails, treat it as a string\n",
    "            elements.append(user_input)\n",
    "    \n",
    "    return elements\n",
    "\n",
    "# Get elements from user\n",
    "user_elements = input_elements()\n",
    "\n",
    "# Find the first duplicate\n",
    "duplicate = first_duplicate(user_elements)\n",
    "print(\"First duplicate:\", duplicate if duplicate is not None else \"None\")"
   ]
  },
  {
   "cell_type": "markdown",
   "id": "2600cab2",
   "metadata": {},
   "source": [
    "## Question 7: statistics (8 marks)\n",
    "Write a program that asks the user to enter numbers until they enter the character 's' to stop. Store the numbers in a numpy array. Print out the mean and standard deviation of the values entered. Hints: (1) Use a while loop to input values until the letter s is entered. (2) Append the values to a list in the while loop and create a numpy array from the list after all the values have been entered. (3) The method std() returns the standard deviation of a numpy array."
   ]
  },
  {
   "cell_type": "code",
   "execution_count": 32,
   "id": "36935b63",
   "metadata": {},
   "outputs": [
    {
     "name": "stdout",
     "output_type": "stream",
     "text": [
      "Enter numbers one by one. Type 's' to stop.\n",
      "Enter a number or 's' to stop: 1.1\n",
      "Enter a number or 's' to stop: 2.2\n",
      "Enter a number or 's' to stop: 3.3\n",
      "Enter a number or 's' to stop: 4.4\n",
      "Enter a number or 's' to stop: 5\n",
      "Enter a number or 's' to stop: 6.6\n",
      "Enter a number or 's' to stop: 7.7\n",
      "Enter a number or 's' to stop: 8.8\n",
      "Enter a number or 's' to stop: 9.9\n",
      "Enter a number or 's' to stop: 10\n",
      "Enter a number or 's' to stop: 20\n",
      "Enter a number or 's' to stop: s\n",
      "Mean: 7.181818181818182\n",
      "Standard Deviation: 4.974812592508235\n"
     ]
    }
   ],
   "source": [
    "import numpy as np\n",
    "\n",
    "def collect_numbers():\n",
    "    numbers = []\n",
    "    print(\"Enter numbers one by one. Type 's' to stop.\")\n",
    "    \n",
    "    while True:\n",
    "        user_input = input(\"Enter a number or 's' to stop: \")\n",
    "        if user_input == 's':\n",
    "            break\n",
    "        try:\n",
    "            number = float(user_input)\n",
    "            numbers.append(number)\n",
    "        except ValueError:\n",
    "            print(\"Invalid input. Please enter a valid number.\")\n",
    "    \n",
    "    return np.array(numbers)\n",
    "\n",
    "# Collect numbers from user\n",
    "num_array = collect_numbers()\n",
    "\n",
    "if num_array.size > 0:\n",
    "    # Calculate mean and standard deviation\n",
    "    mean = num_array.mean()\n",
    "    std_dev = num_array.std()\n",
    "    print(f\"Mean: {mean}\")\n",
    "    print(f\"Standard Deviation: {std_dev}\")\n",
    "else:\n",
    "    print(\"No valid numbers entered.\")"
   ]
  },
  {
   "cell_type": "markdown",
   "id": "378829ce",
   "metadata": {},
   "source": [
    "## Question 8: inner matrix (6 marks)\n",
    "Write code to create a 5 x 6 matrix of random values between 0 (included) and 1 (excluded), rounded off to one decimal place. Print out the matrix. Use slicing to extract the matrix consisting of the values not on the outside of the matrix (i.e. the 3 x 4 matrix in the centre). Print out the inner matrix."
   ]
  },
  {
   "cell_type": "code",
   "execution_count": 43,
   "id": "61ff4546",
   "metadata": {},
   "outputs": [
    {
     "name": "stdout",
     "output_type": "stream",
     "text": [
      "Original Matrix:\n",
      "[[0.3 0.7 0.3 0.9 0.4 0. ]\n",
      " [0.8 0.5 0.3 0.9 0.1 0.1]\n",
      " [0.5 0.5 0.3 0.3 0.2 0.3]\n",
      " [0.5 0.2 0.8 0.9 0.1 0.5]\n",
      " [0.7 0.2 0.8 0.3 0.3 0.4]]\n",
      "\n",
      "Inner Matrix:\n",
      "[[0.5 0.3 0.9 0.1]\n",
      " [0.5 0.3 0.3 0.2]\n",
      " [0.2 0.8 0.9 0.1]]\n"
     ]
    }
   ],
   "source": [
    "import numpy as np\n",
    "\n",
    "# Create a 5x6 matrix of random values scaled to 0 to just under 1\n",
    "matrix = np.random.rand(5, 6)\n",
    "\n",
    "# Round the matrix to one decimal place\n",
    "matrix = np.round(matrix, 1)\n",
    "\n",
    "# Print the original matrix\n",
    "print(\"Original Matrix:\")\n",
    "print(matrix)\n",
    "\n",
    "# Extract the 3x4 matrix from the center\n",
    "inner_matrix = matrix[1:4, 1:5]\n",
    "\n",
    "# Print the inner matrix\n",
    "print(\"\\nInner Matrix:\")\n",
    "print(inner_matrix)"
   ]
  }
 ],
 "metadata": {
  "kernelspec": {
   "display_name": "Python 3 (ipykernel)",
   "language": "python",
   "name": "python3"
  },
  "language_info": {
   "codemirror_mode": {
    "name": "ipython",
    "version": 3
   },
   "file_extension": ".py",
   "mimetype": "text/x-python",
   "name": "python",
   "nbconvert_exporter": "python",
   "pygments_lexer": "ipython3",
   "version": "3.11.5"
  }
 },
 "nbformat": 4,
 "nbformat_minor": 5
}
